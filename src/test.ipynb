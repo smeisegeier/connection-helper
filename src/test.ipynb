{
 "cells": [
  {
   "cell_type": "code",
   "execution_count": null,
   "metadata": {},
   "outputs": [],
   "source": [
    "import os\n",
    "from importlib.metadata import version\n",
    "from connection_helper import pgp\n",
    "\n",
    "os.environ['THEME'] = 'light'\n",
    "\n",
    "# from connection_helper import sql\n",
    "# # from connection_helper.sql import connect_sql\n",
    "# # import connection_helper as con\n",
    "# print(f\"version: {version('connection_helper')}\")\n",
    "# help(sql.connect_sql)"
   ]
  },
  {
   "cell_type": "code",
   "execution_count": null,
   "metadata": {},
   "outputs": [],
   "source": [
    "\n",
    "key = pgp.pgp_generate_key()\n",
    "pgp.pgp_export_public_key(key, \".local/public_key.asc\")\n"
   ]
  },
  {
   "cell_type": "code",
   "execution_count": null,
   "metadata": {},
   "outputs": [],
   "source": [
    "secret= pgp.pgp_export_private_key(key)"
   ]
  },
  {
   "cell_type": "code",
   "execution_count": null,
   "metadata": {},
   "outputs": [],
   "source": [
    "from connection_helper import pgp\n",
    "\n",
    "msg=pgp.pgp_encrypt('hello this is a test', \"27D15FE5\", output_file_path=\".local/test.txt\")"
   ]
  },
  {
   "cell_type": "code",
   "execution_count": null,
   "metadata": {},
   "outputs": [],
   "source": [
    "lol=pgp.pgp_decrypt(message_file_path=\".local/test.txt\")\n",
    "lol.key_id"
   ]
  },
  {
   "cell_type": "code",
   "execution_count": null,
   "metadata": {},
   "outputs": [],
   "source": [
    "from connection_helper import pgp\n",
    "with open(\".local/private.key\") as f:\n",
    "    key = f.read()\n",
    "res=pgp.pgp_import_key(key=key)"
   ]
  }
 ],
 "metadata": {
  "kernelspec": {
   "display_name": "venv",
   "language": "python",
   "name": "python3"
  },
  "language_info": {
   "codemirror_mode": {
    "name": "ipython",
    "version": 3
   },
   "file_extension": ".py",
   "mimetype": "text/x-python",
   "name": "python",
   "nbconvert_exporter": "python",
   "pygments_lexer": "ipython3",
   "version": "3.11.7"
  }
 },
 "nbformat": 4,
 "nbformat_minor": 2
}
