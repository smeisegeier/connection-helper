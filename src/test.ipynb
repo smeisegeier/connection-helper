{
 "cells": [
  {
   "cell_type": "code",
   "execution_count": 12,
   "metadata": {},
   "outputs": [
    {
     "name": "stdout",
     "output_type": "stream",
     "text": [
      "version: 0.0.1\n",
      "Help on function connect_sql in module connection_helper.sql:\n",
      "\n",
      "connect_sql(db: str, host: str = '', user: str = '', pw: str = '', dbms: Literal['mssql', 'sqlite', 'postgres'] = 'mssql', ensure_db_exists: bool = False) -> object\n",
      "    Connects to any SQL database based on the given parameters.\n",
      "    \n",
      "    Args:\n",
      "        db (str): The name of the database / sqlite-file.\n",
      "        host (str, optional): The host name or IP address of the database server. Defaults to an empty string.\n",
      "        user (str, optional): The username for authentication. Defaults to an empty string.\n",
      "        pw (str, optional): The password for authentication. Defaults to an empty string.\n",
      "        dbms (Literal['mssql', 'sqlite','postgres'], optional): The type of database management system. Defaults to 'mssql'.\n",
      "        ensure_db_exists (bool, optional): Specifies whether to create the database if it does not exist. Defaults to False.\n",
      "    \n",
      "    Returns:\n",
      "        Connection: The context object for the established database connection\n",
      "    \n",
      "    Remarks:\n",
      "        - postgres\n",
      "            - psycopg2-binary must be installed\n",
      "            - example:\n",
      "                con = my_connect_to_any_sql(\n",
      "                    host='<instance>.postgres.database.azure.com',\n",
      "                    db='eteste',\n",
      "                    user='<user>n@<instance>',\n",
      "                    pw='<password>',\n",
      "                    dbms='postgres',\n",
      "                    ensure_db_exists=False\n",
      "                )\n",
      "        - mssql\n",
      "            - sqlalchemy nust be <v2 to write -> sql\n",
      "\n"
     ]
    }
   ],
   "source": [
    "import os\n",
    "from importlib.metadata import version\n",
    "\n",
    "os.environ['THEME'] = 'light'\n",
    "\n",
    "from connection_helper import sql\n",
    "# from connection_helper.sql import connect_sql\n",
    "# import connection_helper as con\n",
    "print(f\"version: {version('connection_helper')}\")\n",
    "help(sql.connect_sql)"
   ]
  }
 ],
 "metadata": {
  "kernelspec": {
   "display_name": "venv",
   "language": "python",
   "name": "python3"
  },
  "language_info": {
   "codemirror_mode": {
    "name": "ipython",
    "version": 3
   },
   "file_extension": ".py",
   "mimetype": "text/x-python",
   "name": "python",
   "nbconvert_exporter": "python",
   "pygments_lexer": "ipython3",
   "version": "3.11.7"
  }
 },
 "nbformat": 4,
 "nbformat_minor": 2
}
