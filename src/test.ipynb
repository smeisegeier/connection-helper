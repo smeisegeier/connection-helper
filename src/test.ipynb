{
 "cells": [
  {
   "cell_type": "code",
   "execution_count": 1,
   "metadata": {},
   "outputs": [
    {
     "data": {
      "text/plain": [
       "'0.5.2'"
      ]
     },
     "execution_count": 1,
     "metadata": {},
     "output_type": "execute_result"
    }
   ],
   "source": [
    "import os\n",
    "from importlib.metadata import version\n",
    "from connection_helper import pgp\n",
    "import gnupg as gnu\n",
    "\n",
    "os.environ['THEME'] = 'light'\n",
    "version(\"python-gnupg\")\n",
    "# from connection_helper import sql\n",
    "# # from connection_helper.sql import connect_sql\n",
    "# # import connection_helper as con\n",
    "# print(f\"version: {version('connection_helper')}\")\n",
    "# help(sql.connect_sql)"
   ]
  },
  {
   "cell_type": "code",
   "execution_count": 29,
   "metadata": {},
   "outputs": [
    {
     "name": "stdout",
     "output_type": "stream",
     "text": [
      "message for recipient(s) ['76E9A035']:\n",
      "-----BEGIN PGP MESSAGE-----\n",
      "\n",
      "hQIMA8qDHPbncVMWAQ//TigYPnUMUGrWELbsOQgLq4VZhYglbCdRJ+k6Ovffpg+R\n",
      "Id5x5Y8dqk0CQ/y48TtvafYQJlQHiLXUFTmjhGuvQ86VZM8pjaoWgvyif0M/+5NP\n",
      "tMe6BzxOIDUynffs3rk3Cn2w6emm0JL4QJ3rfutSQZDEOOw/zJpvV2DrLIUg25VZ\n",
      "YM9THjrNokt0uQPT7AXmPQmBFBef3XiYyFqdD9bOUdR5SR4truZKowVvJMusFVLl\n",
      "Wjha5JnZnIKhALDi4UD39kZvN8sc1x8kX/4op/W12Nw6vnI5jBW7ajm/cglpFIdH\n",
      "T8nKqYNt+h8Kiae0yBem85GfCh4vy7sTotmjvPLy9lqEyGUqVhxzmWlEW4AN3Gks\n",
      "xuHXRZGkPbWRvau1Xm8s+zM2cdOa+WaR8PFVWtk0mDrnLsmDp3MMG/zD8gAwMa1r\n",
      "zmZIgMa66ZwLZ90BcMEKRXiZbx+P1LaVU0MhrnmaKZmJxCFu5mAX1cs+R2uYDQ+q\n",
      "wDGbw+xhD55d6zgvDPjbdM3H2eeNtrGB2qtRq17jd2kvAIJpbaPgJKukPwRjOjtD\n",
      "7NcVmhnNGiS0q9cY59odHIl0w0wIfFpaP3/Nvl8I/2+lstd/ne9hvzTwmbQrDMIv\n",
      "ErtYSDBPcqjDV/W/YwOnXRgvSjwM632iLS2sPc/BEV2O4t3+N2IT7yhcZJQTcW7S\n",
      "QwHdcYaHFijLjsYN+QpCdUI3fWb6IinCuvM7i29vz2prw3R781fJ/DYZZtOsLxAq\n",
      "yEQ336qOzGN75CJC558PdK6oeu4=\n",
      "=jsyn\n",
      "-----END PGP MESSAGE-----\n",
      "\n"
     ]
    }
   ],
   "source": [
    "lol = pgp.pgp_encrypt(\n",
    "    message_file_path=\".local/open.txt\",\n",
    "    recipient_key_id_list=\"76E9A035\",  #+\n",
    "    # recipient_key_id_list=\"27D15FE5\",\n",
    "    output_file_path=\".local/encrypted.txt\",\n",
    "    passphrase=\"\",\n",
    ")"
   ]
  },
  {
   "cell_type": "code",
   "execution_count": 36,
   "metadata": {},
   "outputs": [
    {
     "name": "stdout",
     "output_type": "stream",
     "text": [
      "hi there\n"
     ]
    },
    {
     "data": {
      "text/plain": [
       "b'hi there'"
      ]
     },
     "execution_count": 36,
     "metadata": {},
     "output_type": "execute_result"
    }
   ],
   "source": [
    "xd=pgp.pgp_decrypt(message_file_path=\".local/encrypted.txt\", passphrase=)\n",
    "xd.data"
   ]
  },
  {
   "cell_type": "code",
   "execution_count": null,
   "metadata": {},
   "outputs": [],
   "source": [
    "\n",
    "key = pgp.pgp_generate_key()\n",
    "pgp.pgp_export_public_key(key, \".local/public_key.asc\")\n"
   ]
  },
  {
   "cell_type": "code",
   "execution_count": null,
   "metadata": {},
   "outputs": [],
   "source": [
    "secret= pgp.pgp_export_private_key(key)"
   ]
  },
  {
   "cell_type": "code",
   "execution_count": null,
   "metadata": {},
   "outputs": [],
   "source": [
    "from connection_helper import pgp\n",
    "\n",
    "msg=pgp.pgp_encrypt('hello this is a test', \"27D15FE5\", output_file_path=\".local/test.txt\")"
   ]
  },
  {
   "cell_type": "markdown",
   "metadata": {},
   "source": [
    "## osdhs "
   ]
  },
  {
   "cell_type": "code",
   "execution_count": 1,
   "metadata": {},
   "outputs": [],
   "source": [
    "from connection_helper import pgp\n",
    "# with open(\".local/private.key\") as f:\n",
    "#     key = f.read()\n",
    "# res=pgp.pgp_import_key(key=key)"
   ]
  },
  {
   "cell_type": "code",
   "execution_count": 2,
   "metadata": {},
   "outputs": [
    {
     "name": "stdout",
     "output_type": "stream",
     "text": [
      "✅ key found: ['E692CCE5E904AC6B']\n"
     ]
    },
    {
     "data": {
      "text/plain": [
       "['E692CCE5E904AC6B']"
      ]
     },
     "execution_count": 2,
     "metadata": {},
     "output_type": "execute_result"
    }
   ],
   "source": [
    "pgp.pgp_find_key(\"E904AC6B\")"
   ]
  },
  {
   "cell_type": "code",
   "execution_count": 3,
   "metadata": {},
   "outputs": [
    {
     "name": "stdout",
     "output_type": "stream",
     "text": [
      "message for recipient(s) ['E904AC6B']:\n",
      "-----BEGIN PGP MESSAGE-----\n",
      "\n",
      "hF4D8OJGhXpIc5ASAQdAPhjCKqGM7gy6lUnKiwfLztzLFtgFb60Hz39rdG41jlkw\n",
      "MUumEN6tEBlH8XQnOxWCiXrBwDruKJMODM1Hkdt1Kqj/ID7hqPT350zG/JtxpSiz\n",
      "1E0BCQIQYCS7qnzoax1OU+OUmUGhX38qXgV+S+Rs99qX94XNvTf7cyqaQH6WoHV+\n",
      "HOoEFthkOZbDnQIE8mCCexqGtyxb3cFVO1i9Ni1dmA==\n",
      "=p+AM\n",
      "-----END PGP MESSAGE-----\n",
      "\n"
     ]
    },
    {
     "data": {
      "text/plain": [
       "<gnupg.Crypt at 0x107a92190>"
      ]
     },
     "execution_count": 3,
     "metadata": {},
     "output_type": "execute_result"
    }
   ],
   "source": [
    "pgp.pgp_encrypt(\"E904AC6B\", message_file_path=\".local/open.txt\", output_file_path=\".local/encrypted.txt\")"
   ]
  },
  {
   "cell_type": "code",
   "execution_count": 4,
   "metadata": {},
   "outputs": [
    {
     "name": "stdout",
     "output_type": "stream",
     "text": [
      "hello this is a test\n"
     ]
    },
    {
     "data": {
      "text/plain": [
       "b'hello this is a test'"
      ]
     },
     "execution_count": 4,
     "metadata": {},
     "output_type": "execute_result"
    }
   ],
   "source": [
    "out=pgp.pgp_decrypt(message_file_path=\".local/test.txt\")\n",
    "out.data\n"
   ]
  }
 ],
 "metadata": {
  "kernelspec": {
   "display_name": "venv",
   "language": "python",
   "name": "python3"
  },
  "language_info": {
   "codemirror_mode": {
    "name": "ipython",
    "version": 3
   },
   "file_extension": ".py",
   "mimetype": "text/x-python",
   "name": "python",
   "nbconvert_exporter": "python",
   "pygments_lexer": "ipython3",
   "version": "3.11.7"
  }
 },
 "nbformat": 4,
 "nbformat_minor": 2
}
